{
 "cells": [
  {
   "cell_type": "code",
   "execution_count": 1,
   "id": "87bbb06b-8de4-4245-a86e-6a95b18bd932",
   "metadata": {},
   "outputs": [],
   "source": [
    "import os\n",
    "import numpy as np\n",
    "import pandas as pd"
   ]
  },
  {
   "cell_type": "markdown",
   "id": "110cb275-1b2c-4b65-9d5d-a635742d39d6",
   "metadata": {
    "tags": []
   },
   "source": [
    "## Pre-precessing Airbnb data"
   ]
  },
  {
   "cell_type": "markdown",
   "id": "0493e5fd-8eaf-4b6d-805f-100ef35242d2",
   "metadata": {},
   "source": [
    "My workflow planning of this:\n",
    "Aim: calculate the availablity for each Airbnb listing in 2019 and 2022.\n",
    "    Count f or t in field \"available\" by rows and also group by \"listing_id\".\n",
    "    Get a field we need finally, which represent the number of days booked/occupied in the period of one year.\n",
    "    Join this field to listing.csv by listing_id."
   ]
  },
  {
   "cell_type": "code",
   "execution_count": null,
   "id": "6e7aa049-ce73-408a-8916-86cd9816b7c3",
   "metadata": {},
   "outputs": [],
   "source": []
  }
 ],
 "metadata": {
  "kernelspec": {
   "display_name": "Python 3 (ipykernel)",
   "language": "python",
   "name": "python3"
  },
  "language_info": {
   "codemirror_mode": {
    "name": "ipython",
    "version": 3
   },
   "file_extension": ".py",
   "mimetype": "text/x-python",
   "name": "python",
   "nbconvert_exporter": "python",
   "pygments_lexer": "ipython3",
   "version": "3.10.5"
  }
 },
 "nbformat": 4,
 "nbformat_minor": 5
}
